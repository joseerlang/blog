{
  "nbformat": 4,
  "nbformat_minor": 0,
  "metadata": {
    "kernelspec": {
      "display_name": "Python 3",
      "language": "python",
      "name": "python3"
    },
    "language_info": {
      "codemirror_mode": {
        "name": "ipython",
        "version": 3
      },
      "file_extension": ".py",
      "mimetype": "text/x-python",
      "name": "python",
      "nbconvert_exporter": "python",
      "pygments_lexer": "ipython3",
      "version": "3.7.6"
    },
    "toc": {
      "base_numbering": 1,
      "nav_menu": {},
      "number_sections": true,
      "sideBar": true,
      "skip_h1_title": false,
      "title_cell": "Table of Contents",
      "title_sidebar": "Contents",
      "toc_cell": false,
      "toc_position": {},
      "toc_section_display": true,
      "toc_window_display": false
    },
    "colab": {
      "name": "algebra_lineal.ipynb",
      "provenance": []
    }
  },
  "cells": [
    {
      "cell_type": "markdown",
      "metadata": {
        "id": "uNLKAVdru6wS"
      },
      "source": [
        "[![Open In Colab](https://colab.research.google.com/assets/colab-badge.svg)](https://colab.research.google.com/github/joseerlang/blog/blob/master/009_algebra_lineal/algebra_lineal.ipynb)"
      ]
    },
    {
      "cell_type": "markdown",
      "metadata": {
        "id": "SzcSDWZqu6wZ"
      },
      "source": [
        "# Álgebra Lineal"
      ]
    },
    {
      "cell_type": "markdown",
      "metadata": {
        "id": "2jRjKXHMu6wj"
      },
      "source": [
        "El `álgebra lineal` es una rama de las matemáticas utilizada en muchos campos de la ciencia y la ingeniería, incluyendo la `Inteligencia Artificial`. Un buen entendimiento de álgebra lineal es esencial para trabajar con la mayoría de algoritmos de `Machine Learning`, y sobretodo algoritmos de `Deep Learning`. En este post vamos a ver los conceptos de álgebra lineal más importante en el desarrollo de algoritmos de IA, omitiendo muchos conceptos interesantes pero no esenciales para nuestras aplicaciones."
      ]
    },
    {
      "cell_type": "markdown",
      "metadata": {
        "id": "QvqtaLc7u6wq"
      },
      "source": [
        "## Objetos matemáticos"
      ]
    },
    {
      "cell_type": "markdown",
      "metadata": {
        "id": "RJnm2lueu6ww"
      },
      "source": [
        "En nuestro viaje por el apasionante mundo del desarrollo de algoritmos de IA nos encontraremos de manera recurrente con los siguientes objetos matemáticos."
      ]
    },
    {
      "cell_type": "markdown",
      "metadata": {
        "id": "Hbtrn2Nau6w0"
      },
      "source": [
        "### Escalares"
      ]
    },
    {
      "cell_type": "markdown",
      "metadata": {
        "id": "4R4ZaVA0u6w5"
      },
      "source": [
        "Un `escalar` es simplemente un número único, a diferencia de la mayoría del resto de objetos matemáticos estudiados en álgebra lineal que normalmente son colecciones de múltiples números. Suelen denotarse mediante letras en minúscula, por ejemplo cuando decimos que una red neuronal tiene un número $n$ de neuronas estamos usando un valor escalar."
      ]
    },
    {
      "cell_type": "code",
      "metadata": {
        "ExecuteTime": {
          "end_time": "2020-06-14T16:05:48.890188Z",
          "start_time": "2020-06-14T16:05:48.876664Z"
        },
        "id": "iiRS15F_u6xG",
        "outputId": "19a8d090-41a7-4e71-9a87-bf228bfdf814"
      },
      "source": [
        "# un valor escalar\n",
        "x = 1\n",
        "x"
      ],
      "execution_count": null,
      "outputs": [
        {
          "output_type": "execute_result",
          "data": {
            "text/plain": [
              "1"
            ]
          },
          "metadata": {
            "tags": []
          },
          "execution_count": 4
        }
      ]
    },
    {
      "cell_type": "markdown",
      "metadata": {
        "id": "oYW2etUvu6xh"
      },
      "source": [
        "### Vectores"
      ]
    },
    {
      "cell_type": "markdown",
      "metadata": {
        "id": "_qaOmIxqu6xl"
      },
      "source": [
        "Un `vector` es una colección de números dispuestos en una secuencia. Podemos identificar cada elemento individual mediante su posición en la secuencia. Suelen denotarse mediante letras en minúscula y en negrita, por ejemplo $\\mathbf{x}$, mientras que cada elemento se denota con la misma letra que el vector, pero sin negrita y con un subíndice indicando su posición en el vector, por ejemplo $x_1$ es el primer elemento en el vector $\\mathbf{x}$.\n",
        "\n",
        "\\begin{equation}\n",
        "    \\mathbf{x} = \n",
        "    \\begin{bmatrix}x_1 \\\\ x_2 \\\\ ... \\\\ x_n\\end{bmatrix}\n",
        "\\end{equation}"
      ]
    },
    {
      "cell_type": "code",
      "metadata": {
        "ExecuteTime": {
          "end_time": "2020-06-14T16:06:02.034104Z",
          "start_time": "2020-06-14T16:06:02.015082Z"
        },
        "id": "pXBqfCquu6xr",
        "outputId": "e7e2a18b-a4bd-4109-948d-b0def273a7f5"
      },
      "source": [
        "# un vector\n",
        "\n",
        "import numpy as np\n",
        "\n",
        "x = np.array([1, 2, 3, 4])\n",
        "x"
      ],
      "execution_count": null,
      "outputs": [
        {
          "output_type": "execute_result",
          "data": {
            "text/plain": [
              "array([1, 2, 3, 4])"
            ]
          },
          "metadata": {
            "tags": []
          },
          "execution_count": 5
        }
      ]
    },
    {
      "cell_type": "code",
      "metadata": {
        "ExecuteTime": {
          "end_time": "2020-06-14T16:06:09.057462Z",
          "start_time": "2020-06-14T16:06:09.052401Z"
        },
        "id": "nDu3iORHu6x-",
        "outputId": "29d72822-8ef6-45f7-91b5-993478e254ee"
      },
      "source": [
        "# primer valor\n",
        "\n",
        "x[0]"
      ],
      "execution_count": null,
      "outputs": [
        {
          "output_type": "execute_result",
          "data": {
            "text/plain": [
              "1"
            ]
          },
          "metadata": {
            "tags": []
          },
          "execution_count": 6
        }
      ]
    },
    {
      "cell_type": "markdown",
      "metadata": {
        "id": "XAOCMX17u6yT"
      },
      "source": [
        "> ⚠️ Recuerda que en Python los índices de las diferentes estructuras de datos empiezan por el valor 0."
      ]
    },
    {
      "cell_type": "markdown",
      "metadata": {
        "id": "XTDVmeztu6yX"
      },
      "source": [
        "Utilizaremos vectores para representar puntos en el espacio, secuencias de valores en series temporales, frases en las que cada elemento corresponde a una palabra, etc."
      ]
    },
    {
      "cell_type": "markdown",
      "metadata": {
        "id": "lMiPvzO7u6yb"
      },
      "source": [
        "### Matrices"
      ]
    },
    {
      "cell_type": "markdown",
      "metadata": {
        "id": "wr6isbq3u6yn"
      },
      "source": [
        "Una `matriz` es un vector bidimensional, en el que cada elemento se identifica mediante dos índices en vez de uno. Suelen denotarse mediante letras en mayúscula y en negrita, por ejemplo $\\mathbf{A}$. Como en el caso de los vectores, cada elemento se identifica con la misma letra que la matriz, pero sin negrita y con dos subíndices indicando su posición en la matriz. Por ejemplo el valor $A_{1,1}$ es el elemento en la primera fila y primera columna.\n",
        "\n",
        "\\begin{equation}\n",
        "    \\mathbf{A} = \n",
        "    \\begin{bmatrix}A_{1,1} && A_{1,2} \\\\  A_{2,1} && A_{2,2} \\end{bmatrix}\n",
        "\\end{equation}"
      ]
    },
    {
      "cell_type": "code",
      "metadata": {
        "ExecuteTime": {
          "end_time": "2020-06-14T16:15:26.086286Z",
          "start_time": "2020-06-14T16:15:26.074286Z"
        },
        "id": "pHF0wTE0u6yp",
        "outputId": "d72f9e15-acda-4690-8f4c-2e5ce3d57398"
      },
      "source": [
        "# una matriz\n",
        "\n",
        "A = np.array([[1, 2], [3, 4]])\n",
        "A"
      ],
      "execution_count": null,
      "outputs": [
        {
          "output_type": "execute_result",
          "data": {
            "text/plain": [
              "array([[1, 2],\n",
              "       [3, 4]])"
            ]
          },
          "metadata": {
            "tags": []
          },
          "execution_count": 7
        }
      ]
    },
    {
      "cell_type": "code",
      "metadata": {
        "ExecuteTime": {
          "end_time": "2020-06-14T16:15:35.881262Z",
          "start_time": "2020-06-14T16:15:35.875260Z"
        },
        "id": "t57fEyuSu6y_",
        "outputId": "885105a7-4a86-4ada-d328-78d02177ecaf"
      },
      "source": [
        "# primer valor\n",
        "\n",
        "A[0,0]"
      ],
      "execution_count": null,
      "outputs": [
        {
          "output_type": "execute_result",
          "data": {
            "text/plain": [
              "1"
            ]
          },
          "metadata": {
            "tags": []
          },
          "execution_count": 8
        }
      ]
    },
    {
      "cell_type": "markdown",
      "metadata": {
        "id": "nFGBlZQju6zR"
      },
      "source": [
        "Utilizaremos matrices para representar imágenes en blanco y negro, los parámetros de una capa en una red neuronal, etc. En la siguiente imágen puedes ver un ejemplo de una imágen con un número 5, como puedes ver se trata de una matriz en la que cada elemento indica la intensidad de color para cada píxel."
      ]
    },
    {
      "cell_type": "markdown",
      "metadata": {
        "id": "LzcVbE1Mu6zT"
      },
      "source": [
        "![](https://koenig-media.raywenderlich.com/uploads/2018/01/firstXsample.png)"
      ]
    },
    {
      "cell_type": "markdown",
      "metadata": {
        "id": "h-9VtTURu6zW"
      },
      "source": [
        "### Tensores"
      ]
    },
    {
      "cell_type": "markdown",
      "metadata": {
        "id": "asdiaBduu6za"
      },
      "source": [
        "Un `tensor` es una secuencia de valores dispuesta en una malla regular con un número arbitrario de dimensiones. Podemos ver un `escalar` como un tensor con 0 dimensiones, un `vector` como un tensor de 1 dimensión y una `matriz` como un tensor de 2 dimensiones. Así pues, hablamos de tensores en general como la estructura de datos que engloba las estructuras vistas anteriormente y cualquier otra con mayor número de dimensiones."
      ]
    },
    {
      "cell_type": "code",
      "metadata": {
        "ExecuteTime": {
          "end_time": "2020-06-14T16:23:17.688473Z",
          "start_time": "2020-06-14T16:23:17.677446Z"
        },
        "id": "DqORhCiBu6zd",
        "outputId": "babc3a14-54ed-41c5-98f2-f90c4715afe0"
      },
      "source": [
        "# un tensor de 3 dimensiones \n",
        "# puedes interpretarlo como dos matrices\n",
        "\n",
        "A = np.array([[[1, 2], [3, 4]],[[1, 2], [3, 4]]])\n",
        "A"
      ],
      "execution_count": null,
      "outputs": [
        {
          "output_type": "execute_result",
          "data": {
            "text/plain": [
              "array([[[1, 2],\n",
              "        [3, 4]],\n",
              "\n",
              "       [[1, 2],\n",
              "        [3, 4]]])"
            ]
          },
          "metadata": {
            "tags": []
          },
          "execution_count": 9
        }
      ]
    },
    {
      "cell_type": "markdown",
      "metadata": {
        "id": "Axi9vpJVu6zv"
      },
      "source": [
        "Usaremos tensores de tres dimensiones para representar imágenes en color (canales RGB), tensores de cuatro dimensiones para representar vídeos (secuencia de imágenes en color), etc."
      ]
    },
    {
      "cell_type": "markdown",
      "metadata": {
        "id": "irONalzgu6zz"
      },
      "source": [
        "## Operaciones"
      ]
    },
    {
      "cell_type": "markdown",
      "metadata": {
        "id": "CDqC_ldBu6z3"
      },
      "source": [
        "Una operación importante cuando trabajamos con matrices es la `traspuesta`. Consiste en intercambiar las filas por las columnas, y suele denotarse con el superíndice $(\\cdot)^T$, por ejemplo $\\mathbf{A}^T$ es la matriz traspuesta de $\\mathbf{A}$."
      ]
    },
    {
      "cell_type": "code",
      "metadata": {
        "ExecuteTime": {
          "end_time": "2020-06-14T16:28:17.184214Z",
          "start_time": "2020-06-14T16:28:17.165192Z"
        },
        "id": "YGaYNc5Au6z4",
        "outputId": "bd62337e-5ab9-4221-e3bf-4f4b90e82207"
      },
      "source": [
        "A = np.arange(10).reshape(2,5)\n",
        "A"
      ],
      "execution_count": null,
      "outputs": [
        {
          "output_type": "execute_result",
          "data": {
            "text/plain": [
              "array([[0, 1, 2, 3, 4],\n",
              "       [5, 6, 7, 8, 9]])"
            ]
          },
          "metadata": {
            "tags": []
          },
          "execution_count": 10
        }
      ]
    },
    {
      "cell_type": "code",
      "metadata": {
        "ExecuteTime": {
          "end_time": "2020-06-14T16:28:22.643417Z",
          "start_time": "2020-06-14T16:28:22.636417Z"
        },
        "id": "1y3-knyAu60H",
        "outputId": "a26680b0-129c-4178-94df-b786771a45be"
      },
      "source": [
        "A.T"
      ],
      "execution_count": null,
      "outputs": [
        {
          "output_type": "execute_result",
          "data": {
            "text/plain": [
              "array([[0, 5],\n",
              "       [1, 6],\n",
              "       [2, 7],\n",
              "       [3, 8],\n",
              "       [4, 9]])"
            ]
          },
          "metadata": {
            "tags": []
          },
          "execution_count": 11
        }
      ]
    },
    {
      "cell_type": "markdown",
      "metadata": {
        "id": "VJwjzJzmu60Y"
      },
      "source": [
        "Un vector es una matriz de una sola columna, por lo que su transpuesta es simplemente una matriz con una fila con los mismos valores. En cuanto a un valor escalar, él mismo es su traspuesta."
      ]
    },
    {
      "cell_type": "markdown",
      "metadata": {
        "id": "hp-u3fhyu60h"
      },
      "source": [
        "Podemos sumar matrices entre ellas siempre que tengan la misma forma, añadiendo cada elemento de manera independiente."
      ]
    },
    {
      "cell_type": "code",
      "metadata": {
        "ExecuteTime": {
          "end_time": "2020-06-14T16:31:46.948160Z",
          "start_time": "2020-06-14T16:31:46.942108Z"
        },
        "id": "ecxUahjAu60j",
        "outputId": "8822d711-9a53-4208-9bfd-1ea088dfb552"
      },
      "source": [
        "A = np.random.randn(3,3)\n",
        "B = np.random.randn(3,3)\n",
        "\n",
        "A, B"
      ],
      "execution_count": null,
      "outputs": [
        {
          "output_type": "execute_result",
          "data": {
            "text/plain": [
              "(array([[ 0.77118806,  0.45249998,  0.1112773 ],\n",
              "        [-0.06222387,  1.19502159, -1.15127518],\n",
              "        [-0.4967097 , -1.78173562, -0.84420913]]),\n",
              " array([[ 1.3037305 , -1.70384225,  1.05900741],\n",
              "        [-0.68532767,  0.93490022, -0.08834303],\n",
              "        [ 0.53738436,  0.95441283, -1.27276809]]))"
            ]
          },
          "metadata": {
            "tags": []
          },
          "execution_count": 14
        }
      ]
    },
    {
      "cell_type": "code",
      "metadata": {
        "ExecuteTime": {
          "end_time": "2020-06-14T16:31:50.046481Z",
          "start_time": "2020-06-14T16:31:50.036935Z"
        },
        "id": "qe3etBM4u603",
        "outputId": "e332dc3c-0e6a-4298-e88c-e62e3f281e22"
      },
      "source": [
        "A + B"
      ],
      "execution_count": null,
      "outputs": [
        {
          "output_type": "execute_result",
          "data": {
            "text/plain": [
              "array([[ 2.07491856, -1.25134227,  1.17028471],\n",
              "       [-0.74755154,  2.12992181, -1.23961821],\n",
              "       [ 0.04067466, -0.82732278, -2.11697723]])"
            ]
          },
          "metadata": {
            "tags": []
          },
          "execution_count": 15
        }
      ]
    },
    {
      "cell_type": "markdown",
      "metadata": {
        "id": "iZJwA-mDu61G"
      },
      "source": [
        "> ⚡ Como vimos en un [post](https://sensioai.com/blog/008_numpy_aop) anterior podemos saltarnos esta restricción al trabajar con NumPy gracias al `broadcasting`."
      ]
    },
    {
      "cell_type": "markdown",
      "metadata": {
        "id": "HDdQB9jcu61H"
      },
      "source": [
        "### Multiplicando matrices y vectores"
      ]
    },
    {
      "cell_type": "markdown",
      "metadata": {
        "id": "kAmXMCLOu61K"
      },
      "source": [
        "Una de las operaciones más importanes en álgebra lineal es la multiplicación de matrices. Para poder multiplicar dos matrices, $\\mathbf{C} = \\mathbf{A} \\mathbf{B}$, necesitamos que $\\mathbf{A}$ tenga el mismo número de columnas que filas tiene $\\mathbf{B}$. El resultado, $\\mathbf{C}$, será una matriz con el mismo número de filas que $\\mathbf{A}$ y el mismo número de columnas que $\\mathbf{B}$."
      ]
    },
    {
      "cell_type": "code",
      "metadata": {
        "ExecuteTime": {
          "end_time": "2020-06-14T17:35:17.653113Z",
          "start_time": "2020-06-14T17:35:17.637113Z"
        },
        "id": "FtvkEd-su61M",
        "outputId": "95b97394-640e-499a-d3b1-d4edc194d70a"
      },
      "source": [
        "A = np.array([[1,2,1],[0,1,0],[2,3,4]])\n",
        "B = np.array([[2,5],[6,7],[1,8]])\n",
        "\n",
        "A, B"
      ],
      "execution_count": null,
      "outputs": [
        {
          "output_type": "execute_result",
          "data": {
            "text/plain": [
              "(array([[1, 2, 1],\n",
              "        [0, 1, 0],\n",
              "        [2, 3, 4]]),\n",
              " array([[2, 5],\n",
              "        [6, 7],\n",
              "        [1, 8]]))"
            ]
          },
          "metadata": {
            "tags": []
          },
          "execution_count": 58
        }
      ]
    },
    {
      "cell_type": "code",
      "metadata": {
        "ExecuteTime": {
          "end_time": "2020-06-14T17:35:17.793394Z",
          "start_time": "2020-06-14T17:35:17.774397Z"
        },
        "id": "RVXRXeFTu61e",
        "outputId": "d732985d-9048-446c-9a31-5376763291f5"
      },
      "source": [
        "C = A.dot(B)\n",
        "C"
      ],
      "execution_count": null,
      "outputs": [
        {
          "output_type": "execute_result",
          "data": {
            "text/plain": [
              "array([[15, 27],\n",
              "       [ 6,  7],\n",
              "       [26, 63]])"
            ]
          },
          "metadata": {
            "tags": []
          },
          "execution_count": 59
        }
      ]
    },
    {
      "cell_type": "code",
      "metadata": {
        "ExecuteTime": {
          "end_time": "2020-06-14T17:35:35.093491Z",
          "start_time": "2020-06-14T17:35:35.074490Z"
        },
        "id": "_HdGsPPmu61s",
        "outputId": "6aa03e6d-8b2d-4a56-d80d-c57a1bce32a0"
      },
      "source": [
        "# notación alternativa\n",
        "\n",
        "C = A @ B\n",
        "C"
      ],
      "execution_count": null,
      "outputs": [
        {
          "output_type": "execute_result",
          "data": {
            "text/plain": [
              "array([[15, 27],\n",
              "       [ 6,  7],\n",
              "       [26, 63]])"
            ]
          },
          "metadata": {
            "tags": []
          },
          "execution_count": 62
        }
      ]
    },
    {
      "cell_type": "code",
      "metadata": {
        "ExecuteTime": {
          "end_time": "2020-06-14T17:35:18.972284Z",
          "start_time": "2020-06-14T17:35:18.958286Z"
        },
        "id": "67xiMtDxu614",
        "outputId": "d1bd0f6d-bd9d-4334-9d19-ac0980655a7e"
      },
      "source": [
        "C.shape"
      ],
      "execution_count": null,
      "outputs": [
        {
          "output_type": "execute_result",
          "data": {
            "text/plain": [
              "(3, 2)"
            ]
          },
          "metadata": {
            "tags": []
          },
          "execution_count": 61
        }
      ]
    },
    {
      "cell_type": "markdown",
      "metadata": {
        "id": "KSIXG3ZZu62E"
      },
      "source": [
        "Esta operación es distributiva, $\\mathbf{A}(\\mathbf{B}+\\mathbf{C}) = \\mathbf{A} \\mathbf{B} + \\mathbf{A} \\mathbf{C}$, y asociativa, $\\mathbf{A}(\\mathbf{B} \\mathbf{C}) = (\\mathbf{A} \\mathbf{B}) \\mathbf{C}$, pero no commutativa, $\\mathbf{A} \\mathbf{B} \\neq \\mathbf{B} \\mathbf{A}$. Aquí tienes una visualización de la operación.\n",
        "\n",
        "![](https://thumbs.gfycat.com/PositiveExhaustedAmericangoldfinch-size_restricted.gif)"
      ]
    },
    {
      "cell_type": "markdown",
      "metadata": {
        "id": "rCWLhZIPu62F"
      },
      "source": [
        "Ten en cuenta que esta operación no es el resultado de multiplicar cada elemento de las matrices por separado. Este tipo de multiplicación se conoce como `Hardamard product` o `element-wise product` en inglés. En este caso ambas matrices deberán tener la misma forma."
      ]
    },
    {
      "cell_type": "code",
      "metadata": {
        "ExecuteTime": {
          "end_time": "2020-06-14T16:43:03.925568Z",
          "start_time": "2020-06-14T16:43:03.910538Z"
        },
        "id": "iRknaaHYu62I",
        "outputId": "eec40a03-cb53-4aef-8034-b281701631dc"
      },
      "source": [
        "A = np.random.randn(2,2)\n",
        "B = np.random.randn(2,2)\n",
        "\n",
        "A, B"
      ],
      "execution_count": null,
      "outputs": [
        {
          "output_type": "execute_result",
          "data": {
            "text/plain": [
              "(array([[ 1.20004714,  0.52895436],\n",
              "        [-0.59995887, -1.11127834]]),\n",
              " array([[0.40829378, 0.85371561],\n",
              "        [0.6882631 , 2.45808383]]))"
            ]
          },
          "metadata": {
            "tags": []
          },
          "execution_count": 34
        }
      ]
    },
    {
      "cell_type": "code",
      "metadata": {
        "ExecuteTime": {
          "end_time": "2020-06-14T16:43:04.380413Z",
          "start_time": "2020-06-14T16:43:04.366415Z"
        },
        "id": "NnNzG4cwu62V",
        "outputId": "6ff5997c-d17f-4b0d-c08d-fdc5baed01d8"
      },
      "source": [
        "# multiplicamos cada elemento de manera independiente\n",
        "\n",
        "A*B"
      ],
      "execution_count": null,
      "outputs": [
        {
          "output_type": "execute_result",
          "data": {
            "text/plain": [
              "array([[ 0.48997178,  0.4515766 ],\n",
              "       [-0.41292955, -2.73161532]])"
            ]
          },
          "metadata": {
            "tags": []
          },
          "execution_count": 35
        }
      ]
    },
    {
      "cell_type": "markdown",
      "metadata": {
        "id": "rwFExjXdu62h"
      },
      "source": [
        "## Identidad y matriz inversa"
      ]
    },
    {
      "cell_type": "markdown",
      "metadata": {
        "id": "mqATvyByu62j"
      },
      "source": [
        "La matriz `identidad` es una matriz con $1$ en todos los valores de su diagonal y $0$ en el resto de valores."
      ]
    },
    {
      "cell_type": "code",
      "metadata": {
        "ExecuteTime": {
          "end_time": "2020-06-14T16:49:23.912570Z",
          "start_time": "2020-06-14T16:49:23.894547Z"
        },
        "id": "aoYPVmT3u62o",
        "outputId": "2456bf45-bde1-4852-9387-9b96eb6e46ed"
      },
      "source": [
        "# matriz identidad\n",
        "\n",
        "I = np.eye(3)\n",
        "I"
      ],
      "execution_count": null,
      "outputs": [
        {
          "output_type": "execute_result",
          "data": {
            "text/plain": [
              "array([[1., 0., 0.],\n",
              "       [0., 1., 0.],\n",
              "       [0., 0., 1.]])"
            ]
          },
          "metadata": {
            "tags": []
          },
          "execution_count": 37
        }
      ]
    },
    {
      "cell_type": "markdown",
      "metadata": {
        "id": "CN42BHa_u625"
      },
      "source": [
        "Esta matriz tiene la propiedad de no alterar ningún vector por el que se multiplique, y nos permite definir la matriz `inversa` como aquella matriz que cumple la condición $\\mathbf{A}^{-1} \\mathbf{A} = \\mathbf{I}$, donde $\\mathbf{A}^{-1}$ es la matriz inversa de $\\mathbf{A}$ y $\\mathbf{I}$ es la matriz identidad. Esta matriz inversa nos permite resolver sistemas de ecuaciones lineales de la forma $\\mathbf{A} \\mathbf{x} = \\mathbf{b}$, donde $\\mathbf{A}$ y $\\mathbf{b}$ son una matriz y un vector, respectivamente, de valores conocidos y $\\mathbf{x}$ es un vector de incógnitas. La solución a este sistema es $\\mathbf{x} = \\mathbf{A}^{-1} \\mathbf{b}$. El problema con la matriz inversa es que no siempre existe y, cuando lo hace, calcularla puede requerir de un tiempo de cálculo considerable, el cual aumenta con el tamaño de $\\mathbf{A}$ requiriendo de métodos alternativos de resolución en la gran mayoría de ocasiones."
      ]
    },
    {
      "cell_type": "code",
      "metadata": {
        "ExecuteTime": {
          "end_time": "2020-06-14T16:55:35.739276Z",
          "start_time": "2020-06-14T16:55:35.720244Z"
        },
        "id": "v8_2V0Eru628",
        "outputId": "5dae45ab-f8b2-4d42-8590-3506181815f2"
      },
      "source": [
        "import numpy.linalg as linalg\n",
        "\n",
        "A = np.array([[1,2,3],[5,7,11],[21,29,31]])\n",
        "A"
      ],
      "execution_count": null,
      "outputs": [
        {
          "output_type": "execute_result",
          "data": {
            "text/plain": [
              "array([[ 1,  2,  3],\n",
              "       [ 5,  7, 11],\n",
              "       [21, 29, 31]])"
            ]
          },
          "metadata": {
            "tags": []
          },
          "execution_count": 38
        }
      ]
    },
    {
      "cell_type": "code",
      "metadata": {
        "ExecuteTime": {
          "end_time": "2020-06-14T16:55:43.341361Z",
          "start_time": "2020-06-14T16:55:43.322927Z"
        },
        "id": "DCMn4bQGu63G",
        "outputId": "4ed3eb24-b507-4502-e10a-bf52512d2be8"
      },
      "source": [
        "linalg.inv(A)"
      ],
      "execution_count": null,
      "outputs": [
        {
          "output_type": "execute_result",
          "data": {
            "text/plain": [
              "array([[-2.31818182,  0.56818182,  0.02272727],\n",
              "       [ 1.72727273, -0.72727273,  0.09090909],\n",
              "       [-0.04545455,  0.29545455, -0.06818182]])"
            ]
          },
          "metadata": {
            "tags": []
          },
          "execution_count": 39
        }
      ]
    },
    {
      "cell_type": "markdown",
      "metadata": {
        "id": "7-YPIjA4u63T"
      },
      "source": [
        "> 💡 Puedes encontrar toda la funcionalidad que ofrece NumPy para álgebra lineal en el paquete `numpy.linalg`."
      ]
    },
    {
      "cell_type": "markdown",
      "metadata": {
        "id": "DFvk09Xau63V"
      },
      "source": [
        "Podemos resolver el siguiente sistema de ecuaciones lineales\n",
        "\n",
        "\\begin{equation}\n",
        "2x + 6y = 6 \\\\\n",
        "5x + 3y = -9\n",
        "\\end{equation}\n",
        "\n",
        "de esta manera"
      ]
    },
    {
      "cell_type": "code",
      "metadata": {
        "ExecuteTime": {
          "end_time": "2020-06-14T16:59:59.845163Z",
          "start_time": "2020-06-14T16:59:59.826142Z"
        },
        "id": "H6EWw6Ieu63W",
        "outputId": "eb4edd25-a3f8-466e-c300-de223edf6d86"
      },
      "source": [
        "A  = np.array([[2, 6], [5, 3]])\n",
        "b = np.array([6, -9])\n",
        "\n",
        "x = linalg.inv(A).dot(b)\n",
        "x"
      ],
      "execution_count": null,
      "outputs": [
        {
          "output_type": "execute_result",
          "data": {
            "text/plain": [
              "array([-3.,  2.])"
            ]
          },
          "metadata": {
            "tags": []
          },
          "execution_count": 45
        }
      ]
    },
    {
      "cell_type": "code",
      "metadata": {
        "ExecuteTime": {
          "end_time": "2020-06-14T17:00:00.431235Z",
          "start_time": "2020-06-14T17:00:00.415225Z"
        },
        "id": "t9OLkmsxu63m",
        "outputId": "742029f0-a4ca-4e28-e09d-5c51c6261e71"
      },
      "source": [
        "# comprobar solución\n",
        "\n",
        "A.dot(x) == b"
      ],
      "execution_count": null,
      "outputs": [
        {
          "output_type": "execute_result",
          "data": {
            "text/plain": [
              "array([ True,  True])"
            ]
          },
          "metadata": {
            "tags": []
          },
          "execution_count": 46
        }
      ]
    },
    {
      "cell_type": "markdown",
      "metadata": {
        "id": "Lwlrn8U2u63z"
      },
      "source": [
        "Ya que hemos reescrito el problema como $\\mathbf{A} \\mathbf{x} = \\mathbf{b}$, donde\n",
        "\n",
        "\\begin{equation}\n",
        "    \\mathbf{A} = \n",
        "    \\begin{bmatrix}2 && 6 \\\\  5 && 3 \\end{bmatrix}     \n",
        "    \\,\n",
        "    \\mathbf{x} = \\begin{bmatrix}x \\\\ y \\end{bmatrix}\n",
        "    \\, \n",
        "    \\mathbf{b} = \\begin{bmatrix}6 \\\\ -9 \\end{bmatrix}\n",
        "\\end{equation}\n",
        "\n"
      ]
    },
    {
      "cell_type": "markdown",
      "metadata": {
        "id": "_eyjQfqRu630"
      },
      "source": [
        "Un tipo especial de matriz es la matriz `diagonal`, con elementos diferentes de $0$ en su diagonal y $0$ en el resto de elementos (similar a la matriz identidad). Otros tipos de matrices interesantes son las matrices `simétricas`, matrices cuya traspuesta es ella misma, $\\mathbf{A} = \\mathbf{A}^{T}$, y las matrices `ortogonales`, cuya inversa es igual a su traspuesta, $\\mathbf{A}^{-1} = \\mathbf{A}^{T}$, muy interesante ya que en este caso calcular la inversa es una operación muy sencilla."
      ]
    },
    {
      "cell_type": "markdown",
      "metadata": {
        "heading_collapsed": true,
        "id": "xgCQavP4u633"
      },
      "source": [
        "## Descomposición de matrices"
      ]
    },
    {
      "cell_type": "markdown",
      "metadata": {
        "hidden": true,
        "id": "Pb5ucnDwu637"
      },
      "source": [
        "En álgebra lineal es muy común la descomposición de matrices en constituyentes más básicos independientes de su representación y que pueden darnos cierta información interesante. La descomposición más común es la descomposición en vectores propios, en la que una matriz se descompone en un conjunto de vectores y valores propios que cumplen la siguiente propiedad\n",
        "\n",
        "\\begin{equation}\n",
        " \\mathbf{A} \\mathbf{v} = \\lambda \\mathbf{v}\n",
        "\\end{equation}\n",
        "\n",
        "donde $\\mathbf{v}$ es un vector propio y $\\lambda$ su correspondiente valor propio. Juntando todos los vectores propios en una matriz $\\mathbf{V}$ y los valores propios en una matriz diagonal, $\\mathbf{\\Lambda}$, vemos que $\\mathbf{A} = \\mathbf{V} \\mathbf{\\Lambda} \\mathbf{V}^{-1}$."
      ]
    },
    {
      "cell_type": "code",
      "metadata": {
        "ExecuteTime": {
          "end_time": "2020-06-14T17:20:39.722396Z",
          "start_time": "2020-06-14T17:20:39.714770Z"
        },
        "hidden": true,
        "id": "HqXLwQKxu639",
        "outputId": "95c86991-7e56-47d6-a7b8-b98d32726ed1"
      },
      "source": [
        "A = np.array([[1,2,3],[5,7,11],[21,29,31]])\n",
        "A"
      ],
      "execution_count": null,
      "outputs": [
        {
          "output_type": "execute_result",
          "data": {
            "text/plain": [
              "array([[ 1,  2,  3],\n",
              "       [ 5,  7, 11],\n",
              "       [21, 29, 31]])"
            ]
          },
          "metadata": {
            "tags": []
          },
          "execution_count": 47
        }
      ]
    },
    {
      "cell_type": "code",
      "metadata": {
        "ExecuteTime": {
          "end_time": "2020-06-14T17:21:15.850133Z",
          "start_time": "2020-06-14T17:21:15.840129Z"
        },
        "hidden": true,
        "id": "-OgzFW-eu64H",
        "outputId": "bed861e7-958c-41c3-9d89-e841e9772c0b"
      },
      "source": [
        "L, V = linalg.eig(A)\n",
        "L, V"
      ],
      "execution_count": null,
      "outputs": [
        {
          "output_type": "execute_result",
          "data": {
            "text/plain": [
              "(array([42.26600592, -0.35798416, -2.90802176]),\n",
              " array([[-0.08381182, -0.76283526, -0.18913107],\n",
              "        [-0.3075286 ,  0.64133975, -0.6853186 ],\n",
              "        [-0.94784057, -0.08225377,  0.70325518]]))"
            ]
          },
          "metadata": {
            "tags": []
          },
          "execution_count": 50
        }
      ]
    },
    {
      "cell_type": "code",
      "metadata": {
        "ExecuteTime": {
          "end_time": "2020-06-14T17:21:46.422324Z",
          "start_time": "2020-06-14T17:21:46.404298Z"
        },
        "hidden": true,
        "id": "KLt35KkMu64R",
        "outputId": "2dc780d7-e570-43ec-a868-637779a20923"
      },
      "source": [
        "# primer vector/valor propio\n",
        "\n",
        "v, l = V[:,0], L[0]\n",
        "v, l"
      ],
      "execution_count": null,
      "outputs": [
        {
          "output_type": "execute_result",
          "data": {
            "text/plain": [
              "(array([-0.08381182, -0.3075286 , -0.94784057]), 42.2660059241356)"
            ]
          },
          "metadata": {
            "tags": []
          },
          "execution_count": 52
        }
      ]
    },
    {
      "cell_type": "markdown",
      "metadata": {
        "hidden": true,
        "id": "eKxVrNjlu64c"
      },
      "source": [
        "No todas las matrices pueden descomponerse de esta manera, pero cuando se puede esta descomposición nos da mucha información sobre la matriz útil para la derivación de propiedades interesantes para el desarrollo de algoritmos (como el signo de los valores propios)."
      ]
    },
    {
      "cell_type": "markdown",
      "metadata": {
        "heading_collapsed": true,
        "id": "yPKlMnE3u64d"
      },
      "source": [
        "## Otras propiedades"
      ]
    },
    {
      "cell_type": "markdown",
      "metadata": {
        "hidden": true,
        "id": "ZxM4sAaRu64g"
      },
      "source": [
        "Para terminar vamos a ver algunas otras propiedades interesantes de las matrices que pueden ser útiles. La `diagonal` de una matriz es el vector que contiene todos los elementos de la diagonal de una matriz."
      ]
    },
    {
      "cell_type": "code",
      "metadata": {
        "ExecuteTime": {
          "end_time": "2020-06-14T17:30:34.992567Z",
          "start_time": "2020-06-14T17:30:34.975538Z"
        },
        "hidden": true,
        "id": "TzSHHrpQu64i",
        "outputId": "e085af84-c0dd-4c11-cf82-f2c2e823779d"
      },
      "source": [
        "np.diag(A)"
      ],
      "execution_count": null,
      "outputs": [
        {
          "output_type": "execute_result",
          "data": {
            "text/plain": [
              "array([ 1,  7, 31])"
            ]
          },
          "metadata": {
            "tags": []
          },
          "execution_count": 53
        }
      ]
    },
    {
      "cell_type": "markdown",
      "metadata": {
        "hidden": true,
        "id": "wqFC0WYiu64r"
      },
      "source": [
        "La `traza` de una matriz es la suma de los elementos de su diagonal."
      ]
    },
    {
      "cell_type": "code",
      "metadata": {
        "ExecuteTime": {
          "end_time": "2020-06-14T17:32:32.592152Z",
          "start_time": "2020-06-14T17:32:32.582631Z"
        },
        "hidden": true,
        "id": "2kVCnTtau64t",
        "outputId": "9cc06034-cae3-4b64-ff5f-28f25283d806"
      },
      "source": [
        "np.trace(A)"
      ],
      "execution_count": null,
      "outputs": [
        {
          "output_type": "execute_result",
          "data": {
            "text/plain": [
              "39"
            ]
          },
          "metadata": {
            "tags": []
          },
          "execution_count": 55
        }
      ]
    },
    {
      "cell_type": "markdown",
      "metadata": {
        "hidden": true,
        "id": "OrCXgXbiu641"
      },
      "source": [
        "El `determinante` de una matriz es una función que mapea matrices a valores escalares, y su valor absoluto nos da una idea de cuanto se expandirá o contraerá el espacio al multiplicar esa matriz."
      ]
    },
    {
      "cell_type": "code",
      "metadata": {
        "ExecuteTime": {
          "end_time": "2020-06-14T17:34:30.879667Z",
          "start_time": "2020-06-14T17:34:30.864668Z"
        },
        "hidden": true,
        "id": "dOKFzdqFu645",
        "outputId": "00c2bf90-7242-448a-b930-7ff8b4a534b0"
      },
      "source": [
        "linalg.det(A)"
      ],
      "execution_count": null,
      "outputs": [
        {
          "output_type": "execute_result",
          "data": {
            "text/plain": [
              "43.99999999999999"
            ]
          },
          "metadata": {
            "tags": []
          },
          "execution_count": 56
        }
      ]
    },
    {
      "cell_type": "markdown",
      "metadata": {
        "id": "6gTHKGV4u65H"
      },
      "source": [
        "## Resumen"
      ]
    },
    {
      "cell_type": "markdown",
      "metadata": {
        "id": "LW-4X6kJu65K"
      },
      "source": [
        "En este post hemos visto los elementos más importantes del campo del álgebra lineal aplicados a la Inteligencia Artificial. De entre ellos, el saber trabajar con `tensores` (incluyendo `vectores` y `matrices`) y sus operaciones principales (sumas y multiplicaciones) es esencial en el desarrollo de `Redes Neuronales`. Otros algoritmos de `Machine Learning` también envuelven otras propiedades, como por ejemplo la descomposición de matrices (el algoritmo `PCA` puede derivarse directamente de la descomposición de una matriz en vectores propios). Si quieres aprender más sobre este campo, a continuación encontrarás varias referencias que pueden serte muy útiles."
      ]
    },
    {
      "cell_type": "markdown",
      "metadata": {
        "id": "y-n4CxvPu65M"
      },
      "source": [
        "## Referencias\n",
        "\n",
        "Libros\n",
        "\n",
        "- *The Matrix Cookbook* (Petersen y Pedersen, 2006)\n",
        "- *Deep Learning* (Goodfellow, Bengio y Courville, 2016)\n",
        "\n",
        "Cursos\n",
        "\n",
        "- [MIT, 2010](https://ocw.mit.edu/courses/mathematics/18-06-linear-algebra-spring-2010/)\n",
        "- [FastAI](https://github.com/fastai/numerical-linear-algebra)\n",
        "\n",
        "Youtube\n",
        "\n",
        "- [3Blue1Brown](https://www.youtube.com/watch?v=kjBOesZCoqc&list=PL0-GT3co4r2y2YErbmuJw2L5tW4Ew2O5B)\n",
        "\n",
        "Posts\n",
        "\n",
        "- https://explained.ai/matrix-calculus/index.html "
      ]
    }
  ]
}